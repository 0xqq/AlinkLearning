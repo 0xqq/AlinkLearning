{
 "cells": [
  {
   "cell_type": "code",
   "execution_count": null,
   "metadata": {
    "scrolled": false
   },
   "outputs": [
    {
     "ename": "ImportError",
     "evalue": "No module named pyalink.alink",
     "traceback": [
      "\u001b[1;31m\u001b[0m",
      "\u001b[1;31mImportError\u001b[0mTraceback (most recent call last)",
      "\u001b[1;32m<ipython-input-2-3647db5b9528>\u001b[0m in \u001b[0;36m<module>\u001b[1;34m()\u001b[0m\n\u001b[1;32m----> 1\u001b[1;33m \u001b[1;32mfrom\u001b[0m \u001b[0mpyalink\u001b[0m\u001b[1;33m.\u001b[0m\u001b[0malink\u001b[0m \u001b[1;32mimport\u001b[0m \u001b[1;33m*\u001b[0m\u001b[1;33m\u001b[0m\u001b[0m\n\u001b[0m\u001b[0;32m      2\u001b[0m \u001b[0mresetEnv\u001b[0m\u001b[1;33m(\u001b[0m\u001b[1;33m)\u001b[0m\u001b[1;33m\u001b[0m\u001b[0m\n\u001b[0;32m      3\u001b[0m \u001b[0museLocalEnv\u001b[0m\u001b[1;33m(\u001b[0m\u001b[1;36m1\u001b[0m\u001b[1;33m,\u001b[0m \u001b[0mconfig\u001b[0m\u001b[1;33m=\u001b[0m\u001b[0mNone\u001b[0m\u001b[1;33m)\u001b[0m\u001b[1;33m\u001b[0m\u001b[0m\n",
      "\u001b[1;31mImportError\u001b[0m: No module named pyalink.alink"
     ],
     "output_type": "error"
    }
   ],
   "source": [
    "from pyalink.alink import *\n",
    "resetEnv()\n",
    "useLocalEnv(1, config=None)"
   ]
  },
  {
   "cell_type": "markdown",
   "metadata": {},
   "source": [
    "# 准备数据"
   ]
  },
  {
   "cell_type": "code",
   "execution_count": 2,
   "metadata": {},
   "outputs": [],
   "source": [
    "schema = \"age bigint, workclass string, fnlwgt bigint, education string, \\\n",
    "          education_num bigint, marital_status string, occupation string, \\\n",
    "          relationship string, race string, sex string, capital_gain bigint, \\\n",
    "          capital_loss bigint, hours_per_week bigint, native_country string, label string\"\n",
    "\n",
    "adult_batch = CsvSourceBatchOp() \\\n",
    "    .setFilePath(\"https://alink-release.oss-cn-beijing.aliyuncs.com/data-files/adult_train.csv\") \\\n",
    "    .setSchemaStr(schema)\n",
    "\n",
    "adult_stream = CsvSourceStreamOp() \\\n",
    "    .setFilePath(\"https://alink-release.oss-cn-beijing.aliyuncs.com/data-files/adult_test.csv\") \\\n",
    "    .setSchemaStr(schema)"
   ]
  },
  {
   "cell_type": "markdown",
   "metadata": {},
   "source": [
    "# 特征建模"
   ]
  },
  {
   "cell_type": "code",
   "execution_count": 3,
   "metadata": {},
   "outputs": [],
   "source": [
    "categoricalColNames = [\"workclass\", \"education\", \"marital_status\", \"occupation\",\n",
    "                       \"relationship\", \"race\", \"sex\", \"native_country\"]\n",
    "numerialColNames = [\"age\", \"fnlwgt\", \"education_num\", \"capital_gain\",\n",
    "                    \"capital_loss\", \"hours_per_week\"]\n",
    "onehot = OneHotEncoder().setSelectedCols(categoricalColNames) \\\n",
    "        .setOutputCol(\"output\").setReservedCols(numerialColNames + [\"label\"])\n",
    "assembler = VectorAssembler().setSelectedCols([\"output\"] + numerialColNames) \\\n",
    "        .setOutputCol(\"vec\").setReservedCols([\"label\"])\n",
    "pipeline = Pipeline().add(onehot).add(assembler)"
   ]
  },
  {
   "cell_type": "markdown",
   "metadata": {},
   "source": [
    "# 训练+预测+评估"
   ]
  },
  {
   "cell_type": "code",
   "execution_count": 4,
   "metadata": {},
   "outputs": [],
   "source": [
    "logistic = LogisticRegression().setVectorCol(\"vec\").setLabelCol(\"label\") \\\n",
    "        .setPredictionCol(\"pred\").setPredictionDetailCol(\"detail\")\n",
    "model = pipeline.add(logistic).fit(adult_batch)\n",
    "\n",
    "predictBatch = model.transform(adult_batch)\n",
    "\n",
    "metrics = EvalBinaryClassBatchOp().setLabelCol(\"label\") \\\n",
    "        .setPredictionDetailCol(\"detail\").linkFrom(predictBatch).collectMetrics()"
   ]
  },
  {
   "cell_type": "markdown",
   "metadata": {},
   "source": [
    "# 输出评估结果"
   ]
  },
  {
   "cell_type": "code",
   "execution_count": 5,
   "metadata": {},
   "outputs": [
    {
     "name": "stdout",
     "output_type": "stream",
     "text": [
      "AUC: 0.9071346253140332\n",
      "KS: 0.6508855101121852\n",
      "PRC: 0.7654668375809972\n",
      "Precision: 0.7311696264543784\n",
      "Recall: 0.609105981379926\n",
      "F1: 0.6645794197453558\n",
      "ConfusionMatrix: [[4776, 1756], [3065, 22964]]\n",
      "LabelArray: ['>50K', '<=50K']\n",
      "LogLoss: 0.31880016560096547\n",
      "TotalSamples: 32561\n",
      "ActualLabelProportion: [0.2408095574460244, 0.7591904425539756]\n",
      "ActualLabelFrequency: [7841, 24720]\n",
      "Accuracy: 0.8519394367494856\n",
      "Kappa: 0.5705912048680206\n"
     ]
    }
   ],
   "source": [
    "print(\"AUC:\", metrics.getAuc())\n",
    "print(\"KS:\", metrics.getKs())\n",
    "print(\"PRC:\", metrics.getPrc())\n",
    "print(\"Precision:\", metrics.getPrecision())\n",
    "print(\"Recall:\", metrics.getRecall())\n",
    "print(\"F1:\", metrics.getF1())\n",
    "print(\"ConfusionMatrix:\", metrics.getConfusionMatrix())\n",
    "print(\"LabelArray:\", metrics.getLabelArray())\n",
    "print(\"LogLoss:\", metrics.getLogLoss())\n",
    "print(\"TotalSamples:\", metrics.getTotalSamples())\n",
    "print(\"ActualLabelProportion:\", metrics.getActualLabelProportion())\n",
    "print(\"ActualLabelFrequency:\", metrics.getActualLabelFrequency())\n",
    "print(\"Accuracy:\", metrics.getAccuracy())\n",
    "print(\"Kappa:\", metrics.getKappa())"
   ]
  }
 ],
 "metadata": {
  "kernelspec": {
   "display_name": "Python 3",
   "language": "python",
   "name": "python3"
  },
  "language_info": {
   "codemirror_mode": {
    "name": "ipython",
    "version": 3
   },
   "file_extension": ".py",
   "mimetype": "text/x-python",
   "name": "python",
   "nbconvert_exporter": "python",
   "pygments_lexer": "ipython3",
   "version": "3.7.4"
  }
 },
 "nbformat": 4,
 "nbformat_minor": 2
}
